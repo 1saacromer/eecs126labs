{
 "cells": [
  {
   "cell_type": "code",
   "execution_count": 2,
   "metadata": {
    "deletable": false,
    "editable": false
   },
   "outputs": [],
   "source": [
    "# Initialize Otter\n",
    "import otter\n",
    "grader = otter.Notebook(\"pocket_planet_fa25.ipynb\")"
   ]
  },
  {
   "cell_type": "markdown",
   "metadata": {},
   "source": [
    "# Pocket Planet\n",
    "\n",
    "## Introduction\n",
    "\n",
    "In this lab, we'll build a world using probability! To do so, we will set up a world and treat plants as particles. At each time step, these plants will reproduce and compete with each other for the limited space, in the process passing on the fitter genes.\n",
    "\n",
    "Below is an example of such a simulation we will build.\n",
    "\n",
    "<div>\n",
    "  <table>\n",
    "    <tr>\n",
    "      <td>\n",
    "        <img src=\"images/cover_photo.png\" width=\"400\"/>\n",
    "      </td>\n",
    "    </tr>\n",
    "  </table>\n",
    "</div>"
   ]
  },
  {
   "cell_type": "code",
   "execution_count": 3,
   "metadata": {},
   "outputs": [
    {
     "name": "stdout",
     "output_type": "stream",
     "text": [
      "Requirement already satisfied: numpy in /opt/anaconda3/envs/eecs126/lib/python3.13/site-packages (from -r requirements.txt (line 1)) (2.3.2)\n",
      "Requirement already satisfied: matplotlib in /opt/anaconda3/envs/eecs126/lib/python3.13/site-packages (from -r requirements.txt (line 2)) (3.10.6)\n",
      "Requirement already satisfied: scipy in /opt/anaconda3/envs/eecs126/lib/python3.13/site-packages (from -r requirements.txt (line 3)) (1.16.2)\n",
      "Requirement already satisfied: otter-grader==6.1.0 in /opt/anaconda3/envs/eecs126/lib/python3.13/site-packages (from -r requirements.txt (line 4)) (6.1.0)\n",
      "Requirement already satisfied: click<9.0.0,>=8.1.7 in /opt/anaconda3/envs/eecs126/lib/python3.13/site-packages (from otter-grader==6.1.0->-r requirements.txt (line 4)) (8.3.0)\n",
      "Requirement already satisfied: dill>=0.3.0 in /opt/anaconda3/envs/eecs126/lib/python3.13/site-packages (from otter-grader==6.1.0->-r requirements.txt (line 4)) (0.4.0)\n",
      "Requirement already satisfied: fica>=0.4.1 in /opt/anaconda3/envs/eecs126/lib/python3.13/site-packages (from otter-grader==6.1.0->-r requirements.txt (line 4)) (0.4.1)\n",
      "Requirement already satisfied: ipylab<2.0.0,>=1.0.0 in /opt/anaconda3/envs/eecs126/lib/python3.13/site-packages (from otter-grader==6.1.0->-r requirements.txt (line 4)) (1.1.0)\n",
      "Requirement already satisfied: ipython in /opt/anaconda3/envs/eecs126/lib/python3.13/site-packages (from otter-grader==6.1.0->-r requirements.txt (line 4)) (9.1.0)\n",
      "Requirement already satisfied: ipywidgets<9.0.0,>=8.1.5 in /opt/anaconda3/envs/eecs126/lib/python3.13/site-packages (from otter-grader==6.1.0->-r requirements.txt (line 4)) (8.1.5)\n",
      "Requirement already satisfied: jinja2<4.0,>=3.1 in /opt/anaconda3/envs/eecs126/lib/python3.13/site-packages (from otter-grader==6.1.0->-r requirements.txt (line 4)) (3.1.6)\n",
      "Requirement already satisfied: jupytext<2.0.0,>=1.16.4 in /opt/anaconda3/envs/eecs126/lib/python3.13/site-packages (from otter-grader==6.1.0->-r requirements.txt (line 4)) (1.17.3)\n",
      "Requirement already satisfied: nbconvert>=6.0.0 in /opt/anaconda3/envs/eecs126/lib/python3.13/site-packages (from nbconvert[webpdf]>=6.0.0; sys_platform != \"emscripten\" and sys_platform != \"wasi\"->otter-grader==6.1.0->-r requirements.txt (line 4)) (7.16.6)\n",
      "Requirement already satisfied: nbformat>=5.0.0 in /opt/anaconda3/envs/eecs126/lib/python3.13/site-packages (from otter-grader==6.1.0->-r requirements.txt (line 4)) (5.10.4)\n",
      "Requirement already satisfied: pandas>=2.0.0 in /opt/anaconda3/envs/eecs126/lib/python3.13/site-packages (from otter-grader==6.1.0->-r requirements.txt (line 4)) (2.3.2)\n",
      "Requirement already satisfied: python-on-whales<1.0.0,>=0.72.0 in /opt/anaconda3/envs/eecs126/lib/python3.13/site-packages (from otter-grader==6.1.0->-r requirements.txt (line 4)) (0.78.0)\n",
      "Requirement already satisfied: pyyaml<7,>=6 in /opt/anaconda3/envs/eecs126/lib/python3.13/site-packages (from otter-grader==6.1.0->-r requirements.txt (line 4)) (6.0.2)\n",
      "Requirement already satisfied: requests<3.0,>=2.31 in /opt/anaconda3/envs/eecs126/lib/python3.13/site-packages (from otter-grader==6.1.0->-r requirements.txt (line 4)) (2.32.4)\n",
      "Requirement already satisfied: wrapt<2.0.0,>=1.16.0 in /opt/anaconda3/envs/eecs126/lib/python3.13/site-packages (from otter-grader==6.1.0->-r requirements.txt (line 4)) (1.17.3)\n",
      "Requirement already satisfied: comm>=0.1.3 in /opt/anaconda3/envs/eecs126/lib/python3.13/site-packages (from ipywidgets<9.0.0,>=8.1.5->otter-grader==6.1.0->-r requirements.txt (line 4)) (0.2.1)\n",
      "Requirement already satisfied: traitlets>=4.3.1 in /opt/anaconda3/envs/eecs126/lib/python3.13/site-packages (from ipywidgets<9.0.0,>=8.1.5->otter-grader==6.1.0->-r requirements.txt (line 4)) (5.14.3)\n",
      "Requirement already satisfied: widgetsnbextension~=4.0.12 in /opt/anaconda3/envs/eecs126/lib/python3.13/site-packages (from ipywidgets<9.0.0,>=8.1.5->otter-grader==6.1.0->-r requirements.txt (line 4)) (4.0.13)\n",
      "Requirement already satisfied: jupyterlab-widgets~=3.0.12 in /opt/anaconda3/envs/eecs126/lib/python3.13/site-packages (from ipywidgets<9.0.0,>=8.1.5->otter-grader==6.1.0->-r requirements.txt (line 4)) (3.0.15)\n",
      "Requirement already satisfied: MarkupSafe>=2.0 in /opt/anaconda3/envs/eecs126/lib/python3.13/site-packages (from jinja2<4.0,>=3.1->otter-grader==6.1.0->-r requirements.txt (line 4)) (3.0.2)\n",
      "Requirement already satisfied: markdown-it-py>=1.0 in /opt/anaconda3/envs/eecs126/lib/python3.13/site-packages (from jupytext<2.0.0,>=1.16.4->otter-grader==6.1.0->-r requirements.txt (line 4)) (4.0.0)\n",
      "Requirement already satisfied: mdit-py-plugins in /opt/anaconda3/envs/eecs126/lib/python3.13/site-packages (from jupytext<2.0.0,>=1.16.4->otter-grader==6.1.0->-r requirements.txt (line 4)) (0.5.0)\n",
      "Requirement already satisfied: packaging in /opt/anaconda3/envs/eecs126/lib/python3.13/site-packages (from jupytext<2.0.0,>=1.16.4->otter-grader==6.1.0->-r requirements.txt (line 4)) (25.0)\n",
      "Requirement already satisfied: pydantic!=2.0.*,<3,>=2 in /opt/anaconda3/envs/eecs126/lib/python3.13/site-packages (from python-on-whales<1.0.0,>=0.72.0->otter-grader==6.1.0->-r requirements.txt (line 4)) (2.11.9)\n",
      "Requirement already satisfied: typing-extensions in /opt/anaconda3/envs/eecs126/lib/python3.13/site-packages (from python-on-whales<1.0.0,>=0.72.0->otter-grader==6.1.0->-r requirements.txt (line 4)) (4.15.0)\n",
      "Requirement already satisfied: annotated-types>=0.6.0 in /opt/anaconda3/envs/eecs126/lib/python3.13/site-packages (from pydantic!=2.0.*,<3,>=2->python-on-whales<1.0.0,>=0.72.0->otter-grader==6.1.0->-r requirements.txt (line 4)) (0.7.0)\n",
      "Requirement already satisfied: pydantic-core==2.33.2 in /opt/anaconda3/envs/eecs126/lib/python3.13/site-packages (from pydantic!=2.0.*,<3,>=2->python-on-whales<1.0.0,>=0.72.0->otter-grader==6.1.0->-r requirements.txt (line 4)) (2.33.2)\n",
      "Requirement already satisfied: typing-inspection>=0.4.0 in /opt/anaconda3/envs/eecs126/lib/python3.13/site-packages (from pydantic!=2.0.*,<3,>=2->python-on-whales<1.0.0,>=0.72.0->otter-grader==6.1.0->-r requirements.txt (line 4)) (0.4.1)\n",
      "Requirement already satisfied: charset_normalizer<4,>=2 in /opt/anaconda3/envs/eecs126/lib/python3.13/site-packages (from requests<3.0,>=2.31->otter-grader==6.1.0->-r requirements.txt (line 4)) (3.3.2)\n",
      "Requirement already satisfied: idna<4,>=2.5 in /opt/anaconda3/envs/eecs126/lib/python3.13/site-packages (from requests<3.0,>=2.31->otter-grader==6.1.0->-r requirements.txt (line 4)) (3.7)\n",
      "Requirement already satisfied: urllib3<3,>=1.21.1 in /opt/anaconda3/envs/eecs126/lib/python3.13/site-packages (from requests<3.0,>=2.31->otter-grader==6.1.0->-r requirements.txt (line 4)) (2.5.0)\n",
      "Requirement already satisfied: certifi>=2017.4.17 in /opt/anaconda3/envs/eecs126/lib/python3.13/site-packages (from requests<3.0,>=2.31->otter-grader==6.1.0->-r requirements.txt (line 4)) (2025.8.3)\n",
      "Requirement already satisfied: contourpy>=1.0.1 in /opt/anaconda3/envs/eecs126/lib/python3.13/site-packages (from matplotlib->-r requirements.txt (line 2)) (1.3.3)\n",
      "Requirement already satisfied: cycler>=0.10 in /opt/anaconda3/envs/eecs126/lib/python3.13/site-packages (from matplotlib->-r requirements.txt (line 2)) (0.12.1)\n",
      "Requirement already satisfied: fonttools>=4.22.0 in /opt/anaconda3/envs/eecs126/lib/python3.13/site-packages (from matplotlib->-r requirements.txt (line 2)) (4.59.2)\n",
      "Requirement already satisfied: kiwisolver>=1.3.1 in /opt/anaconda3/envs/eecs126/lib/python3.13/site-packages (from matplotlib->-r requirements.txt (line 2)) (1.4.9)\n",
      "Requirement already satisfied: pillow>=8 in /opt/anaconda3/envs/eecs126/lib/python3.13/site-packages (from matplotlib->-r requirements.txt (line 2)) (11.3.0)\n",
      "Requirement already satisfied: pyparsing>=2.3.1 in /opt/anaconda3/envs/eecs126/lib/python3.13/site-packages (from matplotlib->-r requirements.txt (line 2)) (3.2.3)\n",
      "Requirement already satisfied: python-dateutil>=2.7 in /opt/anaconda3/envs/eecs126/lib/python3.13/site-packages (from matplotlib->-r requirements.txt (line 2)) (2.9.0.post0)\n",
      "Requirement already satisfied: docutils in /opt/anaconda3/envs/eecs126/lib/python3.13/site-packages (from fica>=0.4.1->otter-grader==6.1.0->-r requirements.txt (line 4)) (0.21.2)\n",
      "Requirement already satisfied: sphinx in /opt/anaconda3/envs/eecs126/lib/python3.13/site-packages (from fica>=0.4.1->otter-grader==6.1.0->-r requirements.txt (line 4)) (8.2.3)\n",
      "Requirement already satisfied: decorator in /opt/anaconda3/envs/eecs126/lib/python3.13/site-packages (from ipython->otter-grader==6.1.0->-r requirements.txt (line 4)) (5.1.1)\n",
      "Requirement already satisfied: ipython-pygments-lexers in /opt/anaconda3/envs/eecs126/lib/python3.13/site-packages (from ipython->otter-grader==6.1.0->-r requirements.txt (line 4)) (1.1.1)\n",
      "Requirement already satisfied: jedi>=0.16 in /opt/anaconda3/envs/eecs126/lib/python3.13/site-packages (from ipython->otter-grader==6.1.0->-r requirements.txt (line 4)) (0.19.2)\n",
      "Requirement already satisfied: matplotlib-inline in /opt/anaconda3/envs/eecs126/lib/python3.13/site-packages (from ipython->otter-grader==6.1.0->-r requirements.txt (line 4)) (0.1.6)\n",
      "Requirement already satisfied: pexpect>4.3 in /opt/anaconda3/envs/eecs126/lib/python3.13/site-packages (from ipython->otter-grader==6.1.0->-r requirements.txt (line 4)) (4.9.0)\n",
      "Requirement already satisfied: prompt_toolkit<3.1.0,>=3.0.41 in /opt/anaconda3/envs/eecs126/lib/python3.13/site-packages (from ipython->otter-grader==6.1.0->-r requirements.txt (line 4)) (3.0.43)\n",
      "Requirement already satisfied: pygments>=2.4.0 in /opt/anaconda3/envs/eecs126/lib/python3.13/site-packages (from ipython->otter-grader==6.1.0->-r requirements.txt (line 4)) (2.19.1)\n",
      "Requirement already satisfied: stack_data in /opt/anaconda3/envs/eecs126/lib/python3.13/site-packages (from ipython->otter-grader==6.1.0->-r requirements.txt (line 4)) (0.2.0)\n",
      "Requirement already satisfied: wcwidth in /opt/anaconda3/envs/eecs126/lib/python3.13/site-packages (from prompt_toolkit<3.1.0,>=3.0.41->ipython->otter-grader==6.1.0->-r requirements.txt (line 4)) (0.2.13)\n",
      "Requirement already satisfied: parso<0.9.0,>=0.8.4 in /opt/anaconda3/envs/eecs126/lib/python3.13/site-packages (from jedi>=0.16->ipython->otter-grader==6.1.0->-r requirements.txt (line 4)) (0.8.4)\n",
      "Requirement already satisfied: mdurl~=0.1 in /opt/anaconda3/envs/eecs126/lib/python3.13/site-packages (from markdown-it-py>=1.0->jupytext<2.0.0,>=1.16.4->otter-grader==6.1.0->-r requirements.txt (line 4)) (0.1.2)\n",
      "Requirement already satisfied: beautifulsoup4 in /opt/anaconda3/envs/eecs126/lib/python3.13/site-packages (from nbconvert>=6.0.0->nbconvert[webpdf]>=6.0.0; sys_platform != \"emscripten\" and sys_platform != \"wasi\"->otter-grader==6.1.0->-r requirements.txt (line 4)) (4.13.5)\n",
      "Requirement already satisfied: bleach!=5.0.0 in /opt/anaconda3/envs/eecs126/lib/python3.13/site-packages (from bleach[css]!=5.0.0->nbconvert>=6.0.0->nbconvert[webpdf]>=6.0.0; sys_platform != \"emscripten\" and sys_platform != \"wasi\"->otter-grader==6.1.0->-r requirements.txt (line 4)) (6.2.0)\n",
      "Requirement already satisfied: defusedxml in /opt/anaconda3/envs/eecs126/lib/python3.13/site-packages (from nbconvert>=6.0.0->nbconvert[webpdf]>=6.0.0; sys_platform != \"emscripten\" and sys_platform != \"wasi\"->otter-grader==6.1.0->-r requirements.txt (line 4)) (0.7.1)\n",
      "Requirement already satisfied: jupyter-core>=4.7 in /opt/anaconda3/envs/eecs126/lib/python3.13/site-packages (from nbconvert>=6.0.0->nbconvert[webpdf]>=6.0.0; sys_platform != \"emscripten\" and sys_platform != \"wasi\"->otter-grader==6.1.0->-r requirements.txt (line 4)) (5.8.1)\n",
      "Requirement already satisfied: jupyterlab-pygments in /opt/anaconda3/envs/eecs126/lib/python3.13/site-packages (from nbconvert>=6.0.0->nbconvert[webpdf]>=6.0.0; sys_platform != \"emscripten\" and sys_platform != \"wasi\"->otter-grader==6.1.0->-r requirements.txt (line 4)) (0.3.0)\n",
      "Requirement already satisfied: mistune<4,>=2.0.3 in /opt/anaconda3/envs/eecs126/lib/python3.13/site-packages (from nbconvert>=6.0.0->nbconvert[webpdf]>=6.0.0; sys_platform != \"emscripten\" and sys_platform != \"wasi\"->otter-grader==6.1.0->-r requirements.txt (line 4)) (3.1.2)\n",
      "Requirement already satisfied: nbclient>=0.5.0 in /opt/anaconda3/envs/eecs126/lib/python3.13/site-packages (from nbconvert>=6.0.0->nbconvert[webpdf]>=6.0.0; sys_platform != \"emscripten\" and sys_platform != \"wasi\"->otter-grader==6.1.0->-r requirements.txt (line 4)) (0.10.2)\n",
      "Requirement already satisfied: pandocfilters>=1.4.1 in /opt/anaconda3/envs/eecs126/lib/python3.13/site-packages (from nbconvert>=6.0.0->nbconvert[webpdf]>=6.0.0; sys_platform != \"emscripten\" and sys_platform != \"wasi\"->otter-grader==6.1.0->-r requirements.txt (line 4)) (1.5.0)\n",
      "Requirement already satisfied: webencodings in /opt/anaconda3/envs/eecs126/lib/python3.13/site-packages (from bleach!=5.0.0->bleach[css]!=5.0.0->nbconvert>=6.0.0->nbconvert[webpdf]>=6.0.0; sys_platform != \"emscripten\" and sys_platform != \"wasi\"->otter-grader==6.1.0->-r requirements.txt (line 4)) (0.5.1)\n",
      "Requirement already satisfied: tinycss2<1.5,>=1.1.0 in /opt/anaconda3/envs/eecs126/lib/python3.13/site-packages (from bleach[css]!=5.0.0->nbconvert>=6.0.0->nbconvert[webpdf]>=6.0.0; sys_platform != \"emscripten\" and sys_platform != \"wasi\"->otter-grader==6.1.0->-r requirements.txt (line 4)) (1.4.0)\n",
      "Requirement already satisfied: platformdirs>=2.5 in /opt/anaconda3/envs/eecs126/lib/python3.13/site-packages (from jupyter-core>=4.7->nbconvert>=6.0.0->nbconvert[webpdf]>=6.0.0; sys_platform != \"emscripten\" and sys_platform != \"wasi\"->otter-grader==6.1.0->-r requirements.txt (line 4)) (4.3.7)\n",
      "Requirement already satisfied: jupyter-client>=6.1.12 in /opt/anaconda3/envs/eecs126/lib/python3.13/site-packages (from nbclient>=0.5.0->nbconvert>=6.0.0->nbconvert[webpdf]>=6.0.0; sys_platform != \"emscripten\" and sys_platform != \"wasi\"->otter-grader==6.1.0->-r requirements.txt (line 4)) (8.6.3)\n",
      "Requirement already satisfied: pyzmq>=23.0 in /opt/anaconda3/envs/eecs126/lib/python3.13/site-packages (from jupyter-client>=6.1.12->nbclient>=0.5.0->nbconvert>=6.0.0->nbconvert[webpdf]>=6.0.0; sys_platform != \"emscripten\" and sys_platform != \"wasi\"->otter-grader==6.1.0->-r requirements.txt (line 4)) (26.2.0)\n",
      "Requirement already satisfied: tornado>=6.2 in /opt/anaconda3/envs/eecs126/lib/python3.13/site-packages (from jupyter-client>=6.1.12->nbclient>=0.5.0->nbconvert>=6.0.0->nbconvert[webpdf]>=6.0.0; sys_platform != \"emscripten\" and sys_platform != \"wasi\"->otter-grader==6.1.0->-r requirements.txt (line 4)) (6.5.1)\n",
      "Requirement already satisfied: playwright in /opt/anaconda3/envs/eecs126/lib/python3.13/site-packages (from nbconvert[webpdf]>=6.0.0; sys_platform != \"emscripten\" and sys_platform != \"wasi\"->otter-grader==6.1.0->-r requirements.txt (line 4)) (1.55.0)\n",
      "Requirement already satisfied: fastjsonschema>=2.15 in /opt/anaconda3/envs/eecs126/lib/python3.13/site-packages (from nbformat>=5.0.0->otter-grader==6.1.0->-r requirements.txt (line 4)) (2.20.0)\n",
      "Requirement already satisfied: jsonschema>=2.6 in /opt/anaconda3/envs/eecs126/lib/python3.13/site-packages (from nbformat>=5.0.0->otter-grader==6.1.0->-r requirements.txt (line 4)) (4.25.0)\n",
      "Requirement already satisfied: attrs>=22.2.0 in /opt/anaconda3/envs/eecs126/lib/python3.13/site-packages (from jsonschema>=2.6->nbformat>=5.0.0->otter-grader==6.1.0->-r requirements.txt (line 4)) (24.3.0)\n",
      "Requirement already satisfied: jsonschema-specifications>=2023.03.6 in /opt/anaconda3/envs/eecs126/lib/python3.13/site-packages (from jsonschema>=2.6->nbformat>=5.0.0->otter-grader==6.1.0->-r requirements.txt (line 4)) (2023.7.1)\n",
      "Requirement already satisfied: referencing>=0.28.4 in /opt/anaconda3/envs/eecs126/lib/python3.13/site-packages (from jsonschema>=2.6->nbformat>=5.0.0->otter-grader==6.1.0->-r requirements.txt (line 4)) (0.30.2)\n",
      "Requirement already satisfied: rpds-py>=0.7.1 in /opt/anaconda3/envs/eecs126/lib/python3.13/site-packages (from jsonschema>=2.6->nbformat>=5.0.0->otter-grader==6.1.0->-r requirements.txt (line 4)) (0.22.3)\n",
      "Requirement already satisfied: pytz>=2020.1 in /opt/anaconda3/envs/eecs126/lib/python3.13/site-packages (from pandas>=2.0.0->otter-grader==6.1.0->-r requirements.txt (line 4)) (2025.2)\n",
      "Requirement already satisfied: tzdata>=2022.7 in /opt/anaconda3/envs/eecs126/lib/python3.13/site-packages (from pandas>=2.0.0->otter-grader==6.1.0->-r requirements.txt (line 4)) (2025.2)\n",
      "Requirement already satisfied: ptyprocess>=0.5 in /opt/anaconda3/envs/eecs126/lib/python3.13/site-packages (from pexpect>4.3->ipython->otter-grader==6.1.0->-r requirements.txt (line 4)) (0.7.0)\n",
      "Requirement already satisfied: six>=1.5 in /opt/anaconda3/envs/eecs126/lib/python3.13/site-packages (from python-dateutil>=2.7->matplotlib->-r requirements.txt (line 2)) (1.17.0)\n",
      "Requirement already satisfied: soupsieve>1.2 in /opt/anaconda3/envs/eecs126/lib/python3.13/site-packages (from beautifulsoup4->nbconvert>=6.0.0->nbconvert[webpdf]>=6.0.0; sys_platform != \"emscripten\" and sys_platform != \"wasi\"->otter-grader==6.1.0->-r requirements.txt (line 4)) (2.5)\n",
      "Requirement already satisfied: pyee<14,>=13 in /opt/anaconda3/envs/eecs126/lib/python3.13/site-packages (from playwright->nbconvert[webpdf]>=6.0.0; sys_platform != \"emscripten\" and sys_platform != \"wasi\"->otter-grader==6.1.0->-r requirements.txt (line 4)) (13.0.0)\n",
      "Requirement already satisfied: greenlet<4.0.0,>=3.1.1 in /opt/anaconda3/envs/eecs126/lib/python3.13/site-packages (from playwright->nbconvert[webpdf]>=6.0.0; sys_platform != \"emscripten\" and sys_platform != \"wasi\"->otter-grader==6.1.0->-r requirements.txt (line 4)) (3.2.4)\n",
      "Requirement already satisfied: sphinxcontrib-applehelp>=1.0.7 in /opt/anaconda3/envs/eecs126/lib/python3.13/site-packages (from sphinx->fica>=0.4.1->otter-grader==6.1.0->-r requirements.txt (line 4)) (2.0.0)\n",
      "Requirement already satisfied: sphinxcontrib-devhelp>=1.0.6 in /opt/anaconda3/envs/eecs126/lib/python3.13/site-packages (from sphinx->fica>=0.4.1->otter-grader==6.1.0->-r requirements.txt (line 4)) (2.0.0)\n",
      "Requirement already satisfied: sphinxcontrib-htmlhelp>=2.0.6 in /opt/anaconda3/envs/eecs126/lib/python3.13/site-packages (from sphinx->fica>=0.4.1->otter-grader==6.1.0->-r requirements.txt (line 4)) (2.1.0)\n",
      "Requirement already satisfied: sphinxcontrib-jsmath>=1.0.1 in /opt/anaconda3/envs/eecs126/lib/python3.13/site-packages (from sphinx->fica>=0.4.1->otter-grader==6.1.0->-r requirements.txt (line 4)) (1.0.1)\n",
      "Requirement already satisfied: sphinxcontrib-qthelp>=1.0.6 in /opt/anaconda3/envs/eecs126/lib/python3.13/site-packages (from sphinx->fica>=0.4.1->otter-grader==6.1.0->-r requirements.txt (line 4)) (2.0.0)\n",
      "Requirement already satisfied: sphinxcontrib-serializinghtml>=1.1.9 in /opt/anaconda3/envs/eecs126/lib/python3.13/site-packages (from sphinx->fica>=0.4.1->otter-grader==6.1.0->-r requirements.txt (line 4)) (2.0.0)\n",
      "Requirement already satisfied: snowballstemmer>=2.2 in /opt/anaconda3/envs/eecs126/lib/python3.13/site-packages (from sphinx->fica>=0.4.1->otter-grader==6.1.0->-r requirements.txt (line 4)) (3.0.1)\n",
      "Requirement already satisfied: babel>=2.13 in /opt/anaconda3/envs/eecs126/lib/python3.13/site-packages (from sphinx->fica>=0.4.1->otter-grader==6.1.0->-r requirements.txt (line 4)) (2.16.0)\n",
      "Requirement already satisfied: alabaster>=0.7.14 in /opt/anaconda3/envs/eecs126/lib/python3.13/site-packages (from sphinx->fica>=0.4.1->otter-grader==6.1.0->-r requirements.txt (line 4)) (1.0.0)\n",
      "Requirement already satisfied: imagesize>=1.3 in /opt/anaconda3/envs/eecs126/lib/python3.13/site-packages (from sphinx->fica>=0.4.1->otter-grader==6.1.0->-r requirements.txt (line 4)) (1.4.1)\n",
      "Requirement already satisfied: roman-numerals-py>=1.0.0 in /opt/anaconda3/envs/eecs126/lib/python3.13/site-packages (from sphinx->fica>=0.4.1->otter-grader==6.1.0->-r requirements.txt (line 4)) (3.1.0)\n",
      "Requirement already satisfied: executing in /opt/anaconda3/envs/eecs126/lib/python3.13/site-packages (from stack_data->ipython->otter-grader==6.1.0->-r requirements.txt (line 4)) (0.8.3)\n",
      "Requirement already satisfied: asttokens in /opt/anaconda3/envs/eecs126/lib/python3.13/site-packages (from stack_data->ipython->otter-grader==6.1.0->-r requirements.txt (line 4)) (3.0.0)\n",
      "Requirement already satisfied: pure-eval in /opt/anaconda3/envs/eecs126/lib/python3.13/site-packages (from stack_data->ipython->otter-grader==6.1.0->-r requirements.txt (line 4)) (0.2.2)\n",
      "Note: you may need to restart the kernel to use updated packages.\n"
     ]
    }
   ],
   "source": [
    "# If modules have not been installed yet:\n",
    "\n",
    "%pip install -r requirements.txt\n",
    "\n",
    "# Restart kernel afterwards, if needed"
   ]
  },
  {
   "cell_type": "code",
   "execution_count": 4,
   "metadata": {},
   "outputs": [],
   "source": [
    "from itertools import product\n",
    "import numpy as np\n",
    "import scipy\n",
    "import os\n",
    "import random\n"
   ]
  },
  {
   "cell_type": "code",
   "execution_count": 5,
   "metadata": {},
   "outputs": [],
   "source": [
    "%load_ext autoreload\n",
    "%autoreload 2\n",
    "from pocket_planet_utils import *"
   ]
  },
  {
   "cell_type": "markdown",
   "metadata": {},
   "source": [
    "## Part 1: Generating the World\n",
    "\n",
    "The first step to our simulation is to build the world. But how do we generate elevations and lanscapes that look realistic? \n",
    "\n",
    "Let's first define our world. We will design our world to be a 100 pixel by 100 pixel square with 7 terrains: ocean, shallows, sand, dirt, inland, mountain, and snow. Each terrain will corresponds to an elevation range, and so to generate our world, we just need to generate 2-dimensional heigh coordinates. The following pictures show what the elevations and worlds might end up looking like.\n",
    "\n",
    "<div>\n",
    "  <table>\n",
    "    <tr>\n",
    "      <td>\n",
    "        <img src=\"images/elevations.png\">\n",
    "      </td>\n",
    "      <td>\n",
    "        <img src=\"images/uninhabited.png\">      \n",
    "      </td>\n",
    "    </tr>\n",
    "  </table>\n",
    "</div>\n"
   ]
  },
  {
   "cell_type": "markdown",
   "metadata": {},
   "source": [
    "How do we generate worlds? A good first guess is to just randomly sample! This is known as \"Value Noise.\" Here are the steps:\n",
    "1. Create a grid of random values at integer lattice points.\n",
    "2. For any input point (x, y), find the surrounding grid corners.\n",
    "3. Interpolate the corner values \n",
    "4. Clip the noise between 0 and 1, to ensure it is a valid distribution.\n",
    "\n",
    "For the \"interpolation\" step, you should use scipy.ndimage.zoom -- you can look at documentation for this function online!"
   ]
  },
  {
   "cell_type": "code",
   "execution_count": 7,
   "metadata": {
    "tags": [
     "otter_answer_cell"
    ]
   },
   "outputs": [],
   "source": [
    "def value_noise():\n",
    "    #TODO: Implement Value Noise. First, generate a random 10x10 grid via numpy.random.rand. Then, generate interpolations via scipy.ndimage.zoom with order 5 and the necessary sca1ing factor.\n",
    "    #Interpolation can sometimes add noise greater than 1. Be sure to clip the noise between (0.0, 1.0)\n",
    "    noise = np.random.rand(10,10)\n",
    "    perlin_noise = scipy.ndimage.zoom(noise, zoom=10, order=5)\n",
    "    perlin_noise = np.clip(perlin_noise, 0, 1)\n",
    "    return perlin_noise\n"
   ]
  },
  {
   "cell_type": "code",
   "execution_count": 8,
   "metadata": {
    "deletable": false,
    "editable": false
   },
   "outputs": [
    {
     "data": {
      "text/html": [
       "<p><strong style='color: red;'><pre style='display: inline;'>value_noise</pre> results:</strong></p><p><strong><pre style='display: inline;'>value_noise - 1</pre> result:</strong></p><pre>    ❌ Test case failed\n",
       "    Trying:\n",
       "        def test_value_noise():\n",
       "            np.random.seed(0)\n",
       "            noise = value_noise()\n",
       "            assert isinstance(noise, np.ndarray), 'Output is not a numpy array.'\n",
       "            assert noise.shape == (100, 100), f'Expected shape (100, 100), got {noise.shape}.'\n",
       "            assert np.all(np.isfinite(noise)), 'Noise contains non-finite values.'\n",
       "            mn, mx = (float(noise.min()), float(noise.max()))\n",
       "            assert mn >= -1e-09 and mx <= 1 + 1e-09, f'Noise not clipped to [0,1] (min={mn}, max={mx}).'\n",
       "            assert np.std(noise) > 0.001, 'Noise appears constant or near-constant.'\n",
       "            dx = np.abs(np.diff(noise, axis=0))\n",
       "            dy = np.abs(np.diff(noise, axis=1))\n",
       "            assert dx.mean() < 0.2, f'Noise too rough along x (mean Δ={dx.mean():.3f}).'\n",
       "            assert dy.mean() < 0.2, f'Noise too rough along y (mean Δ={dy.mean():.3f}).'\n",
       "    Expecting nothing\n",
       "    ok\n",
       "    Trying:\n",
       "        test_value_noise()\n",
       "    Expecting nothing\n",
       "    **********************************************************************\n",
       "    Line 14, in value_noise 0\n",
       "    Failed example:\n",
       "        test_value_noise()\n",
       "    Exception raised:\n",
       "        Traceback (most recent call last):\n",
       "          File \"/opt/anaconda3/envs/eecs126/lib/python3.13/doctest.py\", line 1395, in __run\n",
       "            exec(compile(example.source, filename, \"single\",\n",
       "            ~~~~^^^^^^^^^^^^^^^^^^^^^^^^^^^^^^^^^^^^^^^^^^^^\n",
       "                         compileflags, True), test.globs)\n",
       "                         ^^^^^^^^^^^^^^^^^^^^^^^^^^^^^^^^\n",
       "          File \"<doctest value_noise 0[1]>\", line 1, in <module>\n",
       "            test_value_noise()\n",
       "            ~~~~~~~~~~~~~~~~^^\n",
       "          File \"<doctest value_noise 0[0]>\", line 2, in test_value_noise\n",
       "            np.random.seed(0)\n",
       "            ^^\n",
       "        NameError: name 'np' is not defined\n",
       "</pre>"
      ],
      "text/plain": [
       "value_noise results:\n",
       "    value_noise - 1 result:\n",
       "        ❌ Test case failed\n",
       "        Trying:\n",
       "            def test_value_noise():\n",
       "                np.random.seed(0)\n",
       "                noise = value_noise()\n",
       "                assert isinstance(noise, np.ndarray), 'Output is not a numpy array.'\n",
       "                assert noise.shape == (100, 100), f'Expected shape (100, 100), got {noise.shape}.'\n",
       "                assert np.all(np.isfinite(noise)), 'Noise contains non-finite values.'\n",
       "                mn, mx = (float(noise.min()), float(noise.max()))\n",
       "                assert mn >= -1e-09 and mx <= 1 + 1e-09, f'Noise not clipped to [0,1] (min={mn}, max={mx}).'\n",
       "                assert np.std(noise) > 0.001, 'Noise appears constant or near-constant.'\n",
       "                dx = np.abs(np.diff(noise, axis=0))\n",
       "                dy = np.abs(np.diff(noise, axis=1))\n",
       "                assert dx.mean() < 0.2, f'Noise too rough along x (mean Δ={dx.mean():.3f}).'\n",
       "                assert dy.mean() < 0.2, f'Noise too rough along y (mean Δ={dy.mean():.3f}).'\n",
       "        Expecting nothing\n",
       "        ok\n",
       "        Trying:\n",
       "            test_value_noise()\n",
       "        Expecting nothing\n",
       "        **********************************************************************\n",
       "        Line 14, in value_noise 0\n",
       "        Failed example:\n",
       "            test_value_noise()\n",
       "        Exception raised:\n",
       "            Traceback (most recent call last):\n",
       "              File \"/opt/anaconda3/envs/eecs126/lib/python3.13/doctest.py\", line 1395, in __run\n",
       "                exec(compile(example.source, filename, \"single\",\n",
       "                ~~~~^^^^^^^^^^^^^^^^^^^^^^^^^^^^^^^^^^^^^^^^^^^^\n",
       "                             compileflags, True), test.globs)\n",
       "                             ^^^^^^^^^^^^^^^^^^^^^^^^^^^^^^^^\n",
       "              File \"<doctest value_noise 0[1]>\", line 1, in <module>\n",
       "                test_value_noise()\n",
       "                ~~~~~~~~~~~~~~~~^^\n",
       "              File \"<doctest value_noise 0[0]>\", line 2, in test_value_noise\n",
       "                np.random.seed(0)\n",
       "                ^^\n",
       "            NameError: name 'np' is not defined"
      ]
     },
     "execution_count": 8,
     "metadata": {},
     "output_type": "execute_result"
    }
   ],
   "source": [
    "grader.check(\"value_noise\")"
   ]
  },
  {
   "cell_type": "markdown",
   "metadata": {},
   "source": [
    "This is what your world with value noise looks like!"
   ]
  },
  {
   "cell_type": "code",
   "execution_count": null,
   "metadata": {},
   "outputs": [],
   "source": [
    "noise = value_noise()\n",
    "ground_elevations = np.array([0.01, 0.075, 0.15, 0.2, 0.3, 0.4, 1.0])\n",
    "visualize_height_values(ground_elevations, noise, \"Value Noise\")\n"
   ]
  },
  {
   "cell_type": "markdown",
   "metadata": {},
   "source": [
    "It works, but it seems unrelalistic, with random hotspots and not much water! Can we do better? lot of research has been poured into this, and one method which has been successful is Perlin noise, which you can rea more about on [Wikipedia](https://en.wikipedia.org/wiki/Perlin_noise) and this [blog post](https://flafla2.github.io/2014/08/09/perlinnoise.html). The method is used in both animated movies and Minecraft, and we will use it too in this lab. Below you will find images perlin noise in 1, 2, and 3 dimensions.\n",
    "\n",
    "\n",
    "<div>\n",
    "  <table>\n",
    "    <tr>\n",
    "      <td>\n",
    "        <img src=\"images/perlin_noise.png\", width=875px>\n",
    "      </td>\n",
    "    </tr>\n",
    " </table>\n",
    "</div>\n",
    "\n",
    "We will implement Perlin noise in this section!"
   ]
  },
  {
   "cell_type": "markdown",
   "metadata": {},
   "source": [
    "Now, to generate the functions of each frequency, we create a $(l+1) \\times (l+1)$ array of unit gradient vectors (kind of like what is shown on the left), where $l$ is the maximum frequency (in the above picture, it is 128). Each square in this grid has 4 gradient vectors on the corner, as shown on the right.\n",
    "\n",
    "<div>\n",
    "  <table>\n",
    "    <tr>\n",
    "      <td>\n",
    "        <img src=\"images/perlin_gradients.png\"style=\"background-color: white; padding: 10px\">\n",
    "      </td>\n",
    "      <td>\n",
    "        <img src=\"images/perlin_grad_4.png\"style=\"background-color: white; padding: 10px\">\n",
    "      </td>\n",
    "    </tr>\n",
    " </table>\n",
    "</div>"
   ]
  },
  {
   "cell_type": "markdown",
   "metadata": {},
   "source": [
    "To do this, we must first generates $n$-dimensional gradient vectors with unit length. \n",
    "\n",
    "There are many different ways we can compute the gradient vector.  Classically, Each gradient vector is computed by independently sampling from $\\mathcal{N}(0, I_n)$. For the sake of the lab, please also implement sampling from a ${Exp}(\\lambda)$ distribution. Then normalize it to be unit length.\n",
    "\n",
    "We let $\\lambda$ be an input to the function. The possible values of distribution are [\"normal\", \"exponential\"]"
   ]
  },
  {
   "cell_type": "code",
   "execution_count": null,
   "metadata": {
    "tags": [
     "otter_answer_cell"
    ]
   },
   "outputs": [],
   "source": [
    "def generate_gradient(n, distribution, lam):\n",
    "    ..."
   ]
  },
  {
   "cell_type": "code",
   "execution_count": null,
   "metadata": {
    "deletable": false,
    "editable": false
   },
   "outputs": [],
   "source": [
    "grader.check(\"generate_gradients\")"
   ]
  },
  {
   "cell_type": "markdown",
   "metadata": {},
   "source": [
    "The cell below, generates the array of gradients for the 2D case as a NumPy array with shape $(l+1, l+1, 2)$."
   ]
  },
  {
   "cell_type": "code",
   "execution_count": null,
   "metadata": {},
   "outputs": [],
   "source": [
    "def generate_corner_gradients(l, distribution, lam):\n",
    "    corners = np.array([generate_gradient(2, distribution, lam) for _ in range((l+1) * (l+1))])\n",
    "    corners = corners.reshape(l+1, l+1, 2)\n",
    "    return corners"
   ]
  },
  {
   "cell_type": "markdown",
   "metadata": {},
   "source": [
    "Now comes the interpolation part. For a general point in $[0, l] \\times [0, l]$, we find which square it lies by looking at the floor and ceiling of its x and y coordinates. Then, we compute the dot product of the gradient vector and \"delta\" vector for each of the 4 corners of the square it lies in. The \"delta\" vectors for a point in one of the $l \\times l$ squares is shown below.\n",
    "\n",
    "<div>\n",
    "  <table>\n",
    "    <tr>\n",
    "      <td>\n",
    "        <img src=\"images/perlin_dist_4.png\", style=\"background-color: white; padding: 10px\">\n",
    "      </td>\n",
    "    </tr>\n",
    " </table>\n",
    "</div>"
   ]
  },
  {
   "cell_type": "code",
   "execution_count": null,
   "metadata": {},
   "outputs": [],
   "source": [
    "def compute_dot_products(gradients, x, y):\n",
    "    floor_x, floor_y = int(x), int(y)\n",
    "    ceil_x, ceil_y = floor_x + 1, floor_y + 1\n",
    "    corner_coords = np.array([[[floor_x, floor_y], [ceil_x, floor_y]],\n",
    "                              [[floor_x, ceil_y], [ceil_x, ceil_y]]])\n",
    "    corner_gradients = gradients[floor_y: ceil_y+1, floor_x: ceil_x+1]\n",
    "    delta = np.array([x, y]) - corner_coords\n",
    "    return np.sum(corner_gradients * delta, axis=2)"
   ]
  },
  {
   "cell_type": "markdown",
   "metadata": {},
   "source": [
    "Now we want to interpolate a value at (x, y) given the values at the 4 corners. It turns out a nice function for doing this involves a degree-5 polynomial."
   ]
  },
  {
   "cell_type": "code",
   "execution_count": null,
   "metadata": {},
   "outputs": [],
   "source": [
    "def smooth_interp(t, a, b):\n",
    "    smooth_t = 6*t**5 - 15*t**4 + 10*t**3\n",
    "    return (1 - smooth_t) * a + smooth_t * b"
   ]
  },
  {
   "cell_type": "markdown",
   "metadata": {},
   "source": [
    "Bilinearly interpolate."
   ]
  },
  {
   "cell_type": "code",
   "execution_count": null,
   "metadata": {},
   "outputs": [],
   "source": [
    "def interpolate(dots, x, y):\n",
    "    dx = x - np.floor(x)\n",
    "    dy = y - np.floor(y)\n",
    "    interp1 = smooth_interp(dx, dots[0, 0], dots[0, 1])\n",
    "    interp2 = smooth_interp(dx, dots[1, 0], dots[1, 1])\n",
    "    interp = smooth_interp(dy, interp1, interp2)\n",
    "    return interp"
   ]
  },
  {
   "cell_type": "markdown",
   "metadata": {},
   "source": [
    "Now to put everything together, even though our array of gradients corresponds to a point in $[0, l] \\times [0, l]$, each pixel in our 100 x 100 square world will just correspond to a point $[0, 1] \\times [0, 1]$. However, we will still use the rest of the array as we will generate the higher frequency functions by mapping a point $x, y \\in [0, 1] \\times [0, 1]$ to $f \\cdot x, f \\cdot y \\in [0, l] \\times [0, l]$, where $f$ is the frequency."
   ]
  },
  {
   "cell_type": "code",
   "execution_count": null,
   "metadata": {},
   "outputs": [],
   "source": [
    "def generate_world(size=100, l=4, distribution = \"normal\", lam = 1e-9):\n",
    "    grad = generate_corner_gradients(2 ** l + 1, distribution, lam)\n",
    "    units = np.linspace(0, 1, size)\n",
    "    rescale_factor = (2 ** 0.5)\n",
    "    grid = np.zeros((size, size))\n",
    "    for i, x in enumerate(units):\n",
    "        for j, y in enumerate(units):\n",
    "            for log_f in range(l):\n",
    "                f = 2 ** log_f\n",
    "                amp = 1 / f\n",
    "                new_x = x * f\n",
    "                new_y = y * f\n",
    "                dots = compute_dot_products(grad, new_x, new_y)\n",
    "                val = interpolate(dots, new_x, new_y)\n",
    "                rescaled_val = val * rescale_factor\n",
    "                grid[j][i] += rescaled_val * amp\n",
    "    grid /= 2 - 2 ** (1 - l)        \n",
    "    return grid"
   ]
  },
  {
   "cell_type": "markdown",
   "metadata": {},
   "source": [
    "You may have to run this cell and the cell below several times to get the world you want."
   ]
  },
  {
   "cell_type": "code",
   "execution_count": null,
   "metadata": {},
   "outputs": [],
   "source": [
    "fig, ax = plt.subplots(1, 4, figsize=(20, 4))\n",
    "test_worlds = []\n",
    "fig.suptitle('2D Perlin Noise with Different l')\n",
    "for l in range(4):\n",
    "    world = generate_world(l=l+1)\n",
    "    test_worlds.append(world)\n",
    "    ax[l].set_title(f'l={l+1}')\n",
    "    im = ax[l].imshow(world)\n",
    "    fig.colorbar(im, ax=ax[l], fraction=0.046, pad=0.04)"
   ]
  },
  {
   "cell_type": "code",
   "execution_count": null,
   "metadata": {
    "scrolled": true
   },
   "outputs": [],
   "source": [
    "fig, ax = plt.subplots(1, 4, figsize=(16, 4))\n",
    "fig.suptitle('Uninhabited Worlds with Different l')\n",
    "for l in range(4):\n",
    "    uninhabited_world = get_uninhabited_world(test_worlds[l])\n",
    "    ax[l].set_title(f'l={l+1}')\n",
    "    im = ax[l].imshow(uninhabited_world)"
   ]
  },
  {
   "cell_type": "markdown",
   "metadata": {},
   "source": [
    "Use the knobs below to visualize worlds with defined height vectors for the enviorment types."
   ]
  },
  {
   "cell_type": "code",
   "execution_count": null,
   "metadata": {},
   "outputs": [],
   "source": [
    "import ipywidgets as widgets\n",
    "from ipywidgets import interact\n",
    "\n",
    "grid = generate_world()\n",
    "\n",
    "@interact(ocean=h_o,shallows=h,beach=h,dirt=h,inland=h,mountain=h)\n",
    "def toggle_ground_heights(ocean=0.01,\n",
    "                          shallows=0.075,\n",
    "                          beach=0.15,\n",
    "                          dirt=0.2,\n",
    "                          inland=0.3,\n",
    "                          mountain=0.4,):\n",
    "    heights = np.array([ocean, shallows, beach, dirt, inland, mountain, 1])\n",
    "    visualize_height_values(heights, grid, \"Perlin Noise\")"
   ]
  },
  {
   "cell_type": "markdown",
   "metadata": {},
   "source": [
    "We now might wonder how the type of distribution the gradient is drawn from changes the world! Let's simulate $100$ worlds from $N(0, I_n)$ and $Exp(10^{-9})$, below:"
   ]
  },
  {
   "cell_type": "code",
   "execution_count": null,
   "metadata": {},
   "outputs": [],
   "source": [
    "def plot_multiple_worlds(distribution, lam=None, runs=100, l=4, size=100):\n",
    "    worlds = []\n",
    "    for _ in range(runs):\n",
    "        if distribution == \"exponential\":\n",
    "            w = get_uninhabited_world(generate_world(l=l, distribution=distribution, lam=lam, size=size))\n",
    "        else:\n",
    "            w = get_uninhabited_world(generate_world(l=l, distribution=distribution, size=size))\n",
    "        worlds.append(w)\n",
    "\n",
    "    # Build montage: sqrt(runs) × sqrt(runs) grid\n",
    "    grid_dim = int(np.sqrt(runs))\n",
    "    fig, axes = plt.subplots(grid_dim, grid_dim, figsize=(20, 20))\n",
    "    fig.suptitle(f\"{distribution.capitalize()} Worlds ({runs} runs)\", fontsize=18)\n",
    "\n",
    "    for i, ax in enumerate(axes.flat):\n",
    "        im = ax.imshow(worlds[i], cmap=\"viridis\")\n",
    "        ax.axis(\"off\")\n",
    "\n",
    "    plt.tight_layout()\n",
    "    plt.show()\n",
    "\n",
    "# Generate 100 runs for each\n",
    "plot_multiple_worlds(\"normal\", runs=100)\n",
    "plot_multiple_worlds(\"exponential\", lam=1e-9, runs=100)\n"
   ]
  },
  {
   "cell_type": "markdown",
   "metadata": {
    "deletable": false,
    "editable": false,
    "tags": [
     "otter_answer_cell"
    ]
   },
   "source": [
    "<!-- BEGIN QUESTION -->\n",
    "\n",
    "## WRITEN QUESTIONS\n",
    "[TODO]: Answering on gradescope\n",
    "1) Why do you think Perlin Noise works better than Value Noise?\n",
    "2) Do you notice anything different in the type of terrian when you change the gradient generation mechanism from from Normal to Exponential? Are any types missing? Why do you think this is?\n",
    "3) Do you notice anything different in the locations of terrian when you change the gradient generation mechanism from from Normal to Exponential? Do they cluster in a specific location? Why do you think this is?\n"
   ]
  },
  {
   "cell_type": "markdown",
   "metadata": {
    "tags": [
     "otter_answer_cell"
    ]
   },
   "source": [
    "Here are some hints for answering the \"why\" of questions 2 and 3:\n",
    "\n",
    "- The exponential distribution only outputs positive values, while the normal distribution can output both positve and negative values. \n",
    "- The process for generating grids involves taking the dot product between the draws and the direction vector to a given point. Consider what happens if the draws are all positive versus if they are more evenly distributed\n",
    "- Recall that we normalize our distribution so that the samples have a norm of 1. If we consider sampling a distribution $X_i$ $n$ times and then normalizing it, we can imagine we have a new distribution defined by: $$\\frac{X}{\\sqrt{X_1^2 + X_2^2 + \\ldots + X_n^2}}$$ If try to plot the empirical this distribution for a $\\mathcal{N}(0, I_n)$ and $Exp(1)$ distribution, do you notice anything about the probability of getting zeros? What does this suggest about how big the dot products (and ultimately terrain produced) will be?"
   ]
  },
  {
   "cell_type": "markdown",
   "metadata": {
    "deletable": false,
    "editable": false
   },
   "source": [
    "<!-- END QUESTION -->\n",
    "\n"
   ]
  },
  {
   "cell_type": "code",
   "execution_count": null,
   "metadata": {},
   "outputs": [],
   "source": [
    "import numpy as np\n",
    "import matplotlib.pyplot as plt\n",
    "\n",
    "n = 5  # number of dimensions\n",
    "samples = 10000\n",
    "\n",
    "# Sample from N(0,1)\n",
    "normal_samples = np.random.normal(0, 1, (samples, n))\n",
    "normal_normed = normal_samples / np.linalg.norm(normal_samples, axis=1, keepdims=True)\n",
    "\n",
    "# Sample from Exp(1)\n",
    "exp_samples = np.random.exponential(1e-9, (samples, n))\n",
    "exp_normed = exp_samples / np.linalg.norm(exp_samples, axis=1, keepdims=True)\n",
    "\n",
    "# --- Create 1x3 subplot ---\n",
    "fig, axes = plt.subplots(1, 2, figsize=(15, 4), sharey=True)\n",
    "\n",
    "# |Max coordinate|\n",
    "axes[0].hist(np.max(np.abs(normal_normed), axis=1), bins=50, alpha=0.6, label='Gaussian', color='blue')\n",
    "axes[0].hist(np.max(np.abs(exp_normed), axis=1), bins=50, alpha=0.6, label='Exponential', color='orange')\n",
    "axes[0].set_title('|Max Coordinate|')\n",
    "axes[0].set_xlabel('Absolute Value')\n",
    "\n",
    "# |Min coordinate|\n",
    "axes[1].hist(np.min(np.abs(normal_normed), axis=1), bins=50, alpha=0.6, label='Gaussian', color='blue')\n",
    "axes[1].hist(np.min(np.abs(exp_normed), axis=1), bins=50, alpha=0.6, label='Exponential', color='orange')\n",
    "axes[1].set_title('|Min Coordinate|')\n",
    "axes[1].set_xlabel('Absolute Value')\n",
    "\n",
    "axes[0].legend()\n",
    "axes[1].legend()\n",
    "\n",
    "\n",
    "plt.tight_layout()\n",
    "plt.show()\n"
   ]
  },
  {
   "cell_type": "markdown",
   "metadata": {},
   "source": [
    "## Part 2: Bringing Particles to Life\n",
    "\n",
    "Now that we have our terrain, we can set up our vegetation. The idea is our particles will be able to move around on our 100 x 100 grid, but first, we need to define the state of a particle. For simplicity, we assume the only kind of plant is trees. Each tree has DNA, which is a convex combination of 5 archetypes, each corresponding to an inhabitable land type in our world. (As a side note, a convex combination means a linear combination where the weights are non-negative and add up to 1. Also we consider ocean as not inhabitable for trees.) Here is the correspondence table of the land types and their ideal tree types. For example, a DNA of $[0.05, 0.05, 0.05, 0.8, 0.05]$ will be a tree well suited to live in the Inland environment.\n",
    "\n",
    "\n",
    "<div>\n",
    "  <table>\n",
    "    <tr>\n",
    "      <td>\n",
    "        <img src=\"images/plant_land_table.png\", width=400px>    \n",
    "      </td>\n",
    "    </tr>\n",
    "  </table>\n",
    "</div>"
   ]
  },
  {
   "cell_type": "markdown",
   "metadata": {},
   "source": [
    "We will initialize a tree's DNA by sampling each element uniformly from $[0, 1]$ independently and normalizing this vector.\n",
    "\n",
    "At each time step, a tree may have offpring (seeds) whose DNA will be slightly mutated. The mutation adds a small pertubation vector to the parent's DNA vector. The pertubation vector has each entry sampled uniformly from $[-\\sigma, \\sigma]$ for some small $\\sigma$. Then, we clip each entry of the result to the range $[0, 1]$ and re-normalize.\n",
    "\n",
    "You do not need to follow the steps above! You are free to design any initialization and mutation scheme that you want to experiment with, but make sure that at each time step, every tree's DNA vector is non-negative and sums to 1."
   ]
  },
  {
   "cell_type": "markdown",
   "metadata": {},
   "source": [
    "**TASK** In the following cell, fill out the functions for generating the initial random DNA as well as generating offspring.\n",
    "\n",
    "(Note: the tests for this lab are just a sanity check for your code and shouldn't be treated as a solid assessment for algorithmic correctness.)"
   ]
  },
  {
   "cell_type": "code",
   "execution_count": null,
   "metadata": {
    "tags": [
     "otter_answer_cell"
    ]
   },
   "outputs": [],
   "source": [
    "def init_random_dna():\n",
    "    ..."
   ]
  },
  {
   "cell_type": "code",
   "execution_count": null,
   "metadata": {
    "deletable": false,
    "editable": false
   },
   "outputs": [],
   "source": [
    "grader.check(\"initialize_random_dna\")"
   ]
  },
  {
   "cell_type": "code",
   "execution_count": null,
   "metadata": {
    "tags": [
     "otter_answer_cell"
    ]
   },
   "outputs": [],
   "source": [
    "def generate_offspring_dna(parent_dna, sigma):\n",
    "    ..."
   ]
  },
  {
   "cell_type": "code",
   "execution_count": null,
   "metadata": {
    "deletable": false,
    "editable": false
   },
   "outputs": [],
   "source": [
    "grader.check(\"generate_offspring_dna\")"
   ]
  },
  {
   "cell_type": "markdown",
   "metadata": {},
   "source": [
    "Now, putting everything together in the tree class."
   ]
  },
  {
   "cell_type": "code",
   "execution_count": null,
   "metadata": {},
   "outputs": [],
   "source": [
    "class Tree(AbstractTree):\n",
    "\n",
    "    def initialize_random_dna(self):\n",
    "        self.dna = init_random_dna()\n",
    "    \n",
    "    def generate_offspring(self, sigma):\n",
    "        offspring_dna = generate_offspring_dna(self.dna, sigma)\n",
    "        return Tree(dna=offspring_dna)"
   ]
  },
  {
   "cell_type": "markdown",
   "metadata": {},
   "source": [
    "Visualize DNA."
   ]
  },
  {
   "cell_type": "code",
   "execution_count": null,
   "metadata": {},
   "outputs": [],
   "source": [
    "@interact(Shallow=r, Beach=r, Dirt=r, Inland=r, Mountains=r)\n",
    "def f(Shallow, Beach, Dirt, Inland, Mountains):\n",
    "    unnormalized_DNA = np.array([Shallow, Beach, Dirt, Inland, Mountains])\n",
    "    DNA = unnormalized_DNA / np.sum(unnormalized_DNA)\n",
    "    tree = Tree(DNA)\n",
    "    visualize_dna(tree)"
   ]
  },
  {
   "cell_type": "markdown",
   "metadata": {},
   "source": [
    "Visualize mutations over multiple generations of a tree's DNA. Feel free to play with the variance and see how things change."
   ]
  },
  {
   "cell_type": "code",
   "execution_count": null,
   "metadata": {},
   "outputs": [],
   "source": [
    "tree = Tree()\n",
    "var = 0.01\n",
    "n_steps = 30\n",
    "for i in range(n_steps):\n",
    "    clear_output(wait=True)\n",
    "    fig = visualize_dna(tree)\n",
    "    if i in [0, n_steps // 2, n_steps - 1]:\n",
    "        save_fig(fig, f'q2a_frame{i}.png')\n",
    "    tree = tree.generate_offspring(var)"
   ]
  },
  {
   "cell_type": "markdown",
   "metadata": {},
   "source": [
    "## Part 3: Defining The Mechanics\n",
    "\n",
    "Now that we have our tree, we can define the mechanics that govern their survival and reproduction.\n",
    "\n",
    "- Our world will initially be empty, but at each time step, a tree can magically appear in a square with probability `self.life_prob`, perhaps through an animal bringing over its seed. This is be implemented in `simulate_life_creation`.\n",
    "- If tree is currently in a square, it survives each time step with some probability. This is implemented in `age_tree`.\n",
    "- If it survives, it can then also generate a number of offspring. The number of offspring is sampled independently from a binomial distribution with $n=\\text{self.max\\_seeds}$ and $p=\\text{fitness}$. You can change this distribution to play with too! This is implemented in `generate_offspring`.\n",
    "- Finally, if a bunch of trees are on the same square, they will compete for the square because resources are limited! Each tree $t$ on a square $s$ has an \"energy\" value that is equal to $\\exp(\\text{s.comp\\_constant} \\cdot \\text{t.fitness})$. Then, each tree on the square wins with probability proportional to its energy value. This is called the **Boltzmann distribution** and is used in economics to model distribution of resources. "
   ]
  },
  {
   "cell_type": "markdown",
   "metadata": {},
   "source": [
    "**TASK** Fill out the following function definitions based on the comments in the later code block."
   ]
  },
  {
   "cell_type": "code",
   "execution_count": null,
   "metadata": {
    "tags": [
     "otter_answer_cell"
    ]
   },
   "outputs": [],
   "source": [
    "def can_plant_seed(life_prob):\n",
    "    # Returns True with probability life_prob, False otherwise\n",
    "    ..."
   ]
  },
  {
   "cell_type": "code",
   "execution_count": null,
   "metadata": {
    "deletable": false,
    "editable": false
   },
   "outputs": [],
   "source": [
    "grader.check(\"can_plant_seed\")"
   ]
  },
  {
   "cell_type": "code",
   "execution_count": null,
   "metadata": {
    "tags": [
     "otter_answer_cell"
    ]
   },
   "outputs": [],
   "source": [
    "def can_terminate_tree(survival_prob):\n",
    "    # Returns True with probability 1 - survival_prob, False otherwise\n",
    "    ..."
   ]
  },
  {
   "cell_type": "code",
   "execution_count": null,
   "metadata": {
    "deletable": false,
    "editable": false
   },
   "outputs": [],
   "source": [
    "grader.check(\"can_terminate_tree\")"
   ]
  },
  {
   "cell_type": "markdown",
   "metadata": {},
   "source": [
    "To implement **gen_offspring** and obtain relevant functions, look at **pocket_planet_utils.py** for class definitions and refer to the details in the paragraph above. You're given a Square object in the function definition."
   ]
  },
  {
   "cell_type": "code",
   "execution_count": null,
   "metadata": {
    "tags": [
     "otter_answer_cell"
    ]
   },
   "outputs": [],
   "source": [
    "def gen_offspring(square):\n",
    "    ..."
   ]
  },
  {
   "cell_type": "code",
   "execution_count": null,
   "metadata": {
    "deletable": false,
    "editable": false
   },
   "outputs": [],
   "source": [
    "grader.check(\"generate_offspring\")"
   ]
  },
  {
   "cell_type": "markdown",
   "metadata": {
    "deletable": false,
    "editable": false
   },
   "source": [
    "**TASK** Implement the `get_probabilities` function, which takes in a number `comp_constant` and a vector of `fitness` values, and returns a vector of probabilities denoting the probability of each tree winning the competition, as described above. \n",
    "\n",
    "The Boltzmann distribution might not admit a simple CDF, and in a future lab, we will discuss how to sample from such a distribution. For now, we have provided the function `sample_boltzmann_distribution` which will sample the probabilities that you have calculated."
   ]
  },
  {
   "cell_type": "code",
   "execution_count": null,
   "metadata": {
    "tags": [
     "otter_answer_cell"
    ]
   },
   "outputs": [],
   "source": [
    "def get_probabilities(comp_constant, fitness):\n",
    "    ..."
   ]
  },
  {
   "cell_type": "code",
   "execution_count": null,
   "metadata": {
    "deletable": false,
    "editable": false
   },
   "outputs": [],
   "source": [
    "grader.check(\"sample_boltzmann_distribution\")"
   ]
  },
  {
   "cell_type": "markdown",
   "metadata": {},
   "source": [
    "Now, the Square class puts everything together."
   ]
  },
  {
   "cell_type": "code",
   "execution_count": null,
   "metadata": {},
   "outputs": [],
   "source": [
    "class Square(AbstractSquare):\n",
    "    \n",
    "    def simulate_life_creation(self):\n",
    "        # Calls self.plant_seed(Tree()) with probability self.life_prob\n",
    "        can_plant_seed(self.life_prob) and self.plant_seed(Tree())\n",
    "                        \n",
    "            \n",
    "    def age_tree(self):\n",
    "        # Calls self.terminate_tree() with probability 1-survival_prob\n",
    "        if not self.contains_tree():\n",
    "            return\n",
    "        survival_prob = self.tree.calc_fitness(self.env_type)\n",
    "        can_terminate_tree(survival_prob) and self.terminate_tree()\n",
    "        \n",
    "\n",
    "    def generate_offspring(self):\n",
    "        # Returns a list of offspring as described above\n",
    "        if not self.contains_tree():\n",
    "            return []\n",
    "        # A square will have a tree and other properties that may prove useful.\n",
    "        return gen_offspring(self)\n",
    "    \n",
    "    \n",
    "    def sample_boltzmann_distribution(self, fitness, return_dist=False):\n",
    "        # Creates an (np.)array of probabilities corresponding to each tree's energy value, using the formula from the above blurb\n",
    "        probabilities = get_probabilities(self.comp_constant, fitness)\n",
    "        \n",
    "        if return_dist:\n",
    "            return probabilities\n",
    "        winner_index = random.choices(np.arange(0, len(fitness)), probabilities)[0]\n",
    "        return winner_index"
   ]
  },
  {
   "cell_type": "markdown",
   "metadata": {},
   "source": [
    "Visualize the evolution of a single tree on our world, and answer the questions below."
   ]
  },
  {
   "cell_type": "code",
   "execution_count": null,
   "metadata": {},
   "outputs": [],
   "source": [
    "var = 0.03\n",
    "comp_constant = 1000\n",
    "    \n",
    "square = create_secret_square(var, comp_constant, Square)\n",
    "n_steps = 50\n",
    "for i in range(n_steps):\n",
    "    plt.pause(0.1)\n",
    "    clear_output(wait=True)\n",
    "    fig = psuedo_env_step(square, Tree)\n",
    "    if i in [0, n_steps // 2, n_steps - 1]:\n",
    "        save_fig(fig, f'q3b_frame{i}.png')"
   ]
  },
  {
   "cell_type": "markdown",
   "metadata": {
    "deletable": false,
    "editable": false,
    "tags": [
     "otter_answer_cell"
    ]
   },
   "source": [
    "<!-- BEGIN QUESTION -->\n",
    "\n",
    "## TODO: Written Questions\n",
    "Based on your investigations, answer the following questions:\n",
    "\n",
    "1) What would you guess is the environment type of the square?\n",
    "\n",
    "[**MANUAL ANSWER, SUBMIT TO GRADESCOPE SEPARATELY**] \n",
    "\n",
    "(Feel free to use this space to draft your answer.)\n",
    "\n",
    "2) How does mutation variance affect the rate of convergence and the behavior once evolution has reached steady state?\n",
    "\n",
    "[**MANUAL ANSWER, SUBMIT TO GRADESCOPE SEPARATELY**] \n",
    "\n",
    "(Feel free to use this space to draft your answer.)\n",
    "\n",
    "3) In a rapidly changing environment, would we want a high or low mutation rate? What about in a predictable environment?\n",
    "\n",
    "[**MANUAL ANSWER, SUBMIT TO GRADESCOPE SEPARATELY**] \n",
    "(Feel free to use this space to draft your answer.)\n",
    "\n",
    "4) How does the competition constant affect rate of convergence and the behavior once evolution has reached steady state? \n",
    "\n",
    "[**MANUAL ANSWER, SUBMIT TO GRADESCOPE SEPARATELY**] (Feel free to use this space to draft your answer.)"
   ]
  },
  {
   "cell_type": "markdown",
   "metadata": {
    "deletable": false,
    "editable": false
   },
   "source": [
    "<!-- END QUESTION -->\n",
    "\n",
    "## Q4 Bringing It All Together\n",
    "\n",
    "You're almost done! All that is left is to make our particles be able to move across squares.\n",
    "\n",
    "- In `simulate_movement`, we want to be able to move a particle from position $i, j$.  To do this, we'll generate`new_coord` as follows:\n",
    "    1. Start with `coord`, a 2-element vector denoting the particle's current position.\n",
    "    2. Perturb each coordinate with i.i.d $\\text{Normal}(0, \\text{var})$ noise.\n",
    "    3. Clip each coordinate to be within the range `[min_val, max_val]`.\n",
    "    4. Round each coordinate to the nearest integer.\n",
    " <!-- from $\\text{Normal}([i,j], var)$, (where $[i, j]$ is a 2-element vector), then clip to `[min_val, max_val]`, and finally round to the nearest integer. -->\n",
    "- In `spread_seeds`, we'll get new positions for a seeds at $i, j$ by setting the variance for `simulate_movement`. If a square is an ocean, set variance to be `self.waves_var`. Otherwise, set it to be `self.wind_var`."
   ]
  },
  {
   "cell_type": "code",
   "execution_count": null,
   "metadata": {
    "tags": [
     "otter_answer_cell"
    ]
   },
   "outputs": [],
   "source": [
    "def get_new_coord(coord, var, min_val, max_val):\n",
    "    ..."
   ]
  },
  {
   "cell_type": "code",
   "execution_count": null,
   "metadata": {
    "deletable": false,
    "editable": false
   },
   "outputs": [],
   "source": [
    "grader.check(\"world\")"
   ]
  },
  {
   "cell_type": "markdown",
   "metadata": {},
   "source": [
    "Finally, the World implementation."
   ]
  },
  {
   "cell_type": "code",
   "execution_count": null,
   "metadata": {},
   "outputs": [],
   "source": [
    "class World(AbstractWorld):\n",
    "    def simulate_movement(self, i, j, var):\n",
    "        coord = np.array([i, j])\n",
    "        min_val, max_val = 0, self.dim - 1\n",
    "        \n",
    "        new_coord = get_new_coord(coord, var, min_val, max_val)\n",
    "        \n",
    "        return new_coord[0], new_coord[1]\n",
    "    \n",
    "    def spread_seeds(self, i, j):\n",
    "        square = self.world[i][j]\n",
    "        trees = square.get_seeds()\n",
    "        \n",
    "        if square.is_ocean():\n",
    "            var = self.waves_var\n",
    "        else:\n",
    "            var = self.wind_var\n",
    "            \n",
    "        for tree in trees:\n",
    "            x, y = self.simulate_movement(i, j, var)\n",
    "            self.world[x][y].plant_seed(tree)"
   ]
  },
  {
   "cell_type": "markdown",
   "metadata": {},
   "source": [
    "## Congratulations!\n",
    "\n",
    "You're free! We hope you've enjoyed this evolutionary journey. We highly recommend tinkering with the hyperparameters. After putting in all this work, you might as well get some fun out of it. If you find any cool properties, feel free to write about it below!"
   ]
  },
  {
   "cell_type": "code",
   "execution_count": null,
   "metadata": {},
   "outputs": [],
   "source": [
    "world = World(generate_world,\n",
    "              Square,\n",
    "              dim=100,\n",
    "              mutation_var=0.03,\n",
    "              comp_constant=100,\n",
    "              wind_var=2,\n",
    "              waves_var=5)\n",
    "\n",
    "n_steps = 70\n",
    "for i in range(70):\n",
    "    fig = world.env_step()\n",
    "    if i in [0, n_steps // 2, n_steps - 1]:\n",
    "        save_fig(fig, f'q4_frame{i}.png')"
   ]
  },
  {
   "cell_type": "markdown",
   "metadata": {},
   "source": [
    "## TODO: Written Questions"
   ]
  },
  {
   "cell_type": "markdown",
   "metadata": {
    "deletable": false,
    "editable": false
   },
   "source": [
    "<!-- BEGIN QUESTION -->\n",
    "\n",
    "**Question 4a**. When life initially starts to spread across the map, the fitness curve is extremely volatile, but eventually it smooths out. Why is this?"
   ]
  },
  {
   "cell_type": "markdown",
   "metadata": {
    "tags": [
     "otter_answer_cell"
    ]
   },
   "source": [
    "[**MANUAL ANSWER, SUBMIT TO GRADESCOPE SEPARATELY**]\n",
    "\n",
    "(Feel free to use this space to draft your answer.)"
   ]
  },
  {
   "cell_type": "markdown",
   "metadata": {
    "deletable": false,
    "editable": false
   },
   "source": [
    "<!-- END QUESTION -->\n",
    "\n",
    "<!-- BEGIN QUESTION -->\n",
    "\n",
    "**Question 4b**. You might notice that the Coverage progression curve tends to match a sigmoid curve. Give a conjecture as to why this might be."
   ]
  },
  {
   "cell_type": "markdown",
   "metadata": {
    "tags": [
     "otter_answer_cell"
    ]
   },
   "source": [
    "[**MANUAL ANSWER, SUBMIT TO GRADESCOPE SEPARATELY**]\n",
    "\n",
    "(Feel free to use this space to draft your answer.)"
   ]
  },
  {
   "cell_type": "markdown",
   "metadata": {
    "deletable": false,
    "editable": false
   },
   "source": [
    "<!-- END QUESTION -->\n",
    "\n",
    "## Submission\n",
    "\n",
    "Congratulations on completing the lab! Run all the cells in this notebook, save it, and upload this .ipynb file to Gradescope under the autograder assignment. \n",
    "\n",
    "Your manual responses will be submitted through the other assignment for this lab on Gradescope. Have a good rest of your week!"
   ]
  },
  {
   "cell_type": "markdown",
   "metadata": {},
   "source": [
    "## References\n",
    "\n",
    "1. https://en.wikipedia.org/wiki/Perlin_noise\n",
    "1. https://flafla2.github.io/2014/08/09/perlinnoise.html\n",
    "1. https://gamedev.stackexchange.com/questions/23625/how-do-you-generate-tileable-perlin-noise"
   ]
  }
 ],
 "metadata": {
  "anaconda-cloud": {},
  "kernelspec": {
   "display_name": "eecs126",
   "language": "python",
   "name": "python3"
  },
  "language_info": {
   "codemirror_mode": {
    "name": "ipython",
    "version": 3
   },
   "file_extension": ".py",
   "mimetype": "text/x-python",
   "name": "python",
   "nbconvert_exporter": "python",
   "pygments_lexer": "ipython3",
   "version": "3.13.5"
  },
  "otter": {
   "OK_FORMAT": true,
   "tests": {
    "can_plant_seed": {
     "name": "can_plant_seed",
     "points": 1,
     "suites": [
      {
       "cases": [
        {
         "code": ">>> def test_can_plant_seed():\n...     num_samples = 10000\n...     for prob in [0.2, 0.5, 0.7, 0.9]:\n...         can_plant = 0\n...         for _ in range(num_samples):\n...             can_plant += can_plant_seed(prob)\n...         assert np.isclose(can_plant / num_samples, prob, atol=0.05), 'Probability is not close to expected.'\n>>> test_can_plant_seed()\n",
         "hidden": false,
         "locked": false
        }
       ],
       "scored": true,
       "setup": "",
       "teardown": "",
       "type": "doctest"
      }
     ]
    },
    "can_terminate_tree": {
     "name": "can_terminate_tree",
     "points": 1,
     "suites": [
      {
       "cases": [
        {
         "code": ">>> def test_can_terminate_tree():\n...     num_samples = 10000\n...     for prob in [0.2, 0.5, 0.7, 0.9]:\n...         can_terminate = 0\n...         for _ in range(num_samples):\n...             can_terminate += can_terminate_tree(prob)\n...         assert np.isclose(can_terminate / num_samples, 1 - prob, atol=0.05), 'Probability is not close to expected.'\n>>> test_can_terminate_tree()\n",
         "hidden": false,
         "locked": false
        }
       ],
       "scored": true,
       "setup": "",
       "teardown": "",
       "type": "doctest"
      }
     ]
    },
    "generate_gradients": {
     "name": "generate_gradients",
     "points": 1,
     "suites": [
      {
       "cases": [
        {
         "code": ">>> def test_generate_gradient():\n...     num_samples = 10000\n...     n = 5\n...     for _ in range(num_samples):\n...         grad = generate_gradient(n, 'normal', 0.01)\n...         assert len(grad) == n, 'Gradient vector has incorrect length.'\n...         assert np.all(np.isfinite(grad)), 'Gradient contains non-finite values.'\n...         norm = np.linalg.norm(grad)\n...         assert np.isclose(norm, 1, atol=1e-06), f'Gradient norm not equal to 1 (got {norm}).'\n>>> test_generate_gradient()\n",
         "hidden": false,
         "locked": false
        }
       ],
       "scored": true,
       "setup": "",
       "teardown": "",
       "type": "doctest"
      }
     ]
    },
    "generate_offspring": {
     "name": "generate_offspring",
     "points": 2,
     "suites": [
      {
       "cases": [
        {
         "code": ">>> def test_gen_offspring():\n...     max_seeds = 10000\n...     sq = AbstractSquare(mutation_var=0.5, max_seeds=max_seeds, height=0, soil_color='brown', traits_dim=5, comp_constant=0.5, life_prob=1)\n...     sq.tree = Tree(dna=[0.5])\n...     fitness = sq.tree.calc_fitness(sq.env_type)\n...     tot, nt = ([], 500)\n...     for _ in range(nt):\n...         offspring = gen_offspring(sq)\n...         tot.append(len(offspring))\n...     assert np.isclose(sum(tot) / nt, sq.max_seeds * fitness, atol=0.05 * max_seeds), 'Check your distribution again.'\n...     assert np.isclose(np.var(tot), sq.max_seeds * fitness * (1 - fitness), atol=0.05 * max_seeds), 'Check your distribution again.'\n>>> test_gen_offspring()\n",
         "hidden": false,
         "locked": false
        }
       ],
       "scored": true,
       "setup": "",
       "teardown": "",
       "type": "doctest"
      }
     ]
    },
    "generate_offspring_dna": {
     "name": "generate_offspring_dna",
     "points": 1,
     "suites": [
      {
       "cases": [
        {
         "code": ">>> def test_gen_offspring_dna():\n...     num_samples = 10000\n...     for _ in range(num_samples):\n...         offspring_dna = generate_offspring_dna(np.array([0.2, 0.2, 0.2, 0.2, 0.2]), 0.001)\n...         assert all((0 <= prob <= 1 for prob in offspring_dna)), 'Some values in DNA probability were outside the 0-1 range.'\n...         assert np.isclose(np.sum(offspring_dna), 1, atol=0.01), 'Sum of DNA probability values does not equal 1.'\n>>> test_gen_offspring_dna()\n",
         "hidden": false,
         "locked": false
        }
       ],
       "scored": true,
       "setup": "",
       "teardown": "",
       "type": "doctest"
      }
     ]
    },
    "initialize_random_dna": {
     "name": "initialize_random_dna",
     "points": 1,
     "suites": [
      {
       "cases": [
        {
         "code": ">>> def test_init_random_dna():\n...     num_samples = 10000\n...     for _ in range(num_samples):\n...         dna = init_random_dna()\n...         assert len(dna) == 5, 'DNA probability vector is incorrect length. Remember that trees can grow on all terrain except ocean.'\n...         assert all((0 <= prob <= 1 for prob in dna)), 'Some values in DNA probability were outside the 0-1 range.'\n...         assert np.isclose(np.sum(dna), 1, atol=0.01), 'Sum of DNA probability values does not equal 1.'\n>>> test_init_random_dna()\n",
         "hidden": false,
         "locked": false
        }
       ],
       "scored": true,
       "setup": "",
       "teardown": "",
       "type": "doctest"
      }
     ]
    },
    "sample_boltzmann_distribution": {
     "name": "sample_boltzmann_distribution",
     "points": 2,
     "suites": [
      {
       "cases": [
        {
         "code": ">>> def test_probabilities():\n...     comp_constant = [1.0, 4.0, 6.0, 9.0]\n...     fitness = np.array([0.5, 2.5, 4.5, 6.5, 8.5], dtype=np.float64)\n...     for cc in comp_constant:\n...         calculated_probs = get_probabilities(cc, fitness)\n...         asserted_probs = [pow(np.e, cc * i) for i in fitness]\n...         sm = sum(asserted_probs)\n...         res = [i / sm for i in asserted_probs]\n...         assert all(np.isclose(calculated_probs, res, atol=0.0))\n>>> test_probabilities()\n",
         "hidden": false,
         "locked": false
        }
       ],
       "scored": true,
       "setup": "",
       "teardown": "",
       "type": "doctest"
      }
     ]
    },
    "value_noise": {
     "name": "value_noise",
     "points": 1,
     "suites": [
      {
       "cases": [
        {
         "code": ">>> def test_value_noise():\n...     np.random.seed(0)\n...     noise = value_noise()\n...     assert isinstance(noise, np.ndarray), 'Output is not a numpy array.'\n...     assert noise.shape == (100, 100), f'Expected shape (100, 100), got {noise.shape}.'\n...     assert np.all(np.isfinite(noise)), 'Noise contains non-finite values.'\n...     mn, mx = (float(noise.min()), float(noise.max()))\n...     assert mn >= -1e-09 and mx <= 1 + 1e-09, f'Noise not clipped to [0,1] (min={mn}, max={mx}).'\n...     assert np.std(noise) > 0.001, 'Noise appears constant or near-constant.'\n...     dx = np.abs(np.diff(noise, axis=0))\n...     dy = np.abs(np.diff(noise, axis=1))\n...     assert dx.mean() < 0.2, f'Noise too rough along x (mean Δ={dx.mean():.3f}).'\n...     assert dy.mean() < 0.2, f'Noise too rough along y (mean Δ={dy.mean():.3f}).'\n>>> test_value_noise()\n",
         "hidden": false,
         "locked": false
        }
       ],
       "scored": true,
       "setup": "",
       "teardown": "",
       "type": "doctest"
      }
     ]
    },
    "world": {
     "name": "world",
     "points": 2,
     "suites": [
      {
       "cases": [
        {
         "code": ">>> def test_world_high_variance():\n...     res = 0\n...     for _ in range(100000):\n...         res += tuple(get_new_coord((50, 50), 100000000, 0, 99)) in [(0, 99), (99, 0), (0, 0), (99, 99)]\n...     assert np.isclose(res / 100000, 1, atol=0.05), 'World is not correctly generated for high variances.'\n>>> def test_world_low_variance():\n...     res = 0\n...     for _ in range(100000):\n...         res += tuple(get_new_coord((50, 50), 0, 0, 99)) == (50, 50)\n...     assert np.isclose(res / 100000, 1, atol=0.05), 'World is not correctly generated for low variances.'\n>>> test_world_high_variance()\n>>> test_world_low_variance()\n",
         "hidden": false,
         "locked": false
        }
       ],
       "scored": true,
       "setup": "",
       "teardown": "",
       "type": "doctest"
      }
     ]
    }
   }
  }
 },
 "nbformat": 4,
 "nbformat_minor": 4
}
